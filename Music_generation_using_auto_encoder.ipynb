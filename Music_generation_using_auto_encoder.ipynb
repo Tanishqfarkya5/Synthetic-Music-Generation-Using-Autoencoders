{
  "nbformat": 4,
  "nbformat_minor": 0,
  "metadata": {
    "colab": {
      "provenance": [],
      "authorship_tag": "ABX9TyNtB8qJMJGgiLlP2wWDaYwK",
      "include_colab_link": true
    },
    "kernelspec": {
      "name": "python3",
      "display_name": "Python 3"
    },
    "language_info": {
      "name": "python"
    }
  },
  "cells": [
    {
      "cell_type": "markdown",
      "metadata": {
        "id": "view-in-github",
        "colab_type": "text"
      },
      "source": [
        "<a href=\"https://colab.research.google.com/github/Tanishqfarkya5/Synthetic-Music-Generation-Using-Autoencoders/blob/main/Music_generation_using_auto_encoder.ipynb\" target=\"_parent\"><img src=\"https://colab.research.google.com/assets/colab-badge.svg\" alt=\"Open In Colab\"/></a>"
      ]
    },
    {
      "cell_type": "code",
      "execution_count": null,
      "metadata": {
        "id": "hSRjEPQxIxuU"
      },
      "outputs": [],
      "source": [
        "import numpy as np\n",
        "from keras.models import Model\n",
        "from keras.layers import Input, Dense"
      ]
    },
    {
      "cell_type": "code",
      "source": [
        "# Generate synthetic music data for demonstration\n",
        "def generate_music_data(num_samples, num_features):\n",
        "    # Simulating music data as random numerical values\n",
        "    return np.random.rand(num_samples, num_features)"
      ],
      "metadata": {
        "id": "M6c9_sc5I39D"
      },
      "execution_count": null,
      "outputs": []
    },
    {
      "cell_type": "code",
      "source": [
        "# Generate synthetic music dataset\n",
        "num_samples  = 1000  # Number of music samples\n",
        "num_features = 128 # Features in each music sample\n",
        "music_data = generate_music_data(num_samples, num_features)\n"
      ],
      "metadata": {
        "id": "ToZTs97VJAGE"
      },
      "execution_count": null,
      "outputs": []
    },
    {
      "cell_type": "code",
      "source": [
        "\n",
        "# Split dataset into training and testing\n",
        "train_data = music_data[:800]\n",
        "test_data = music_data[800:]\n"
      ],
      "metadata": {
        "id": "e58g92vpJDM_"
      },
      "execution_count": null,
      "outputs": []
    },
    {
      "cell_type": "code",
      "source": [
        "\n",
        "# Autoencoder Architecture\n",
        "input_layer = Input(shape=(num_features,))\n",
        "# Encoder: Compress data\n",
        "encoded = Dense(32, activation='relu')(input_layer)\n",
        "# Decoder: Reconstruct data\n",
        "decoded = Dense(num_features, activation='sigmoid')(encoded)\n",
        "\n",
        "autoencoder = Model(input_layer, decoded)\n",
        "autoencoder.compile(optimizer='adam', loss='mse')\n"
      ],
      "metadata": {
        "id": "bbp7FJENJDQD"
      },
      "execution_count": null,
      "outputs": []
    },
    {
      "cell_type": "code",
      "source": [
        "\n",
        "# Train the Autoencoder\n",
        "autoencoder.fit(train_data, train_data,\n",
        "                epochs=50,\n",
        "                batch_size=32,\n",
        "                validation_data=(test_data, test_data))\n",
        "\n"
      ],
      "metadata": {
        "colab": {
          "base_uri": "https://localhost:8080/"
        },
        "id": "svVmdsNmJDWi",
        "outputId": "790b35eb-3de5-4cad-8921-c48dad5047bf"
      },
      "execution_count": null,
      "outputs": [
        {
          "output_type": "stream",
          "name": "stdout",
          "text": [
            "Epoch 1/50\n",
            "\u001b[1m25/25\u001b[0m \u001b[32m━━━━━━━━━━━━━━━━━━━━\u001b[0m\u001b[37m\u001b[0m \u001b[1m2s\u001b[0m 31ms/step - loss: 0.0858 - val_loss: 0.0832\n",
            "Epoch 2/50\n",
            "\u001b[1m25/25\u001b[0m \u001b[32m━━━━━━━━━━━━━━━━━━━━\u001b[0m\u001b[37m\u001b[0m \u001b[1m1s\u001b[0m 30ms/step - loss: 0.0836 - val_loss: 0.0831\n",
            "Epoch 3/50\n",
            "\u001b[1m25/25\u001b[0m \u001b[32m━━━━━━━━━━━━━━━━━━━━\u001b[0m\u001b[37m\u001b[0m \u001b[1m1s\u001b[0m 31ms/step - loss: 0.0828 - val_loss: 0.0829\n",
            "Epoch 4/50\n",
            "\u001b[1m25/25\u001b[0m \u001b[32m━━━━━━━━━━━━━━━━━━━━\u001b[0m\u001b[37m\u001b[0m \u001b[1m2s\u001b[0m 62ms/step - loss: 0.0829 - val_loss: 0.0826\n",
            "Epoch 5/50\n",
            "\u001b[1m25/25\u001b[0m \u001b[32m━━━━━━━━━━━━━━━━━━━━\u001b[0m\u001b[37m\u001b[0m \u001b[1m1s\u001b[0m 47ms/step - loss: 0.0826 - val_loss: 0.0820\n",
            "Epoch 6/50\n",
            "\u001b[1m25/25\u001b[0m \u001b[32m━━━━━━━━━━━━━━━━━━━━\u001b[0m\u001b[37m\u001b[0m \u001b[1m1s\u001b[0m 28ms/step - loss: 0.0811 - val_loss: 0.0812\n",
            "Epoch 7/50\n",
            "\u001b[1m25/25\u001b[0m \u001b[32m━━━━━━━━━━━━━━━━━━━━\u001b[0m\u001b[37m\u001b[0m \u001b[1m1s\u001b[0m 25ms/step - loss: 0.0803 - val_loss: 0.0803\n",
            "Epoch 8/50\n",
            "\u001b[1m25/25\u001b[0m \u001b[32m━━━━━━━━━━━━━━━━━━━━\u001b[0m\u001b[37m\u001b[0m \u001b[1m1s\u001b[0m 30ms/step - loss: 0.0789 - val_loss: 0.0793\n",
            "Epoch 9/50\n",
            "\u001b[1m25/25\u001b[0m \u001b[32m━━━━━━━━━━━━━━━━━━━━\u001b[0m\u001b[37m\u001b[0m \u001b[1m1s\u001b[0m 22ms/step - loss: 0.0784 - val_loss: 0.0786\n",
            "Epoch 10/50\n",
            "\u001b[1m25/25\u001b[0m \u001b[32m━━━━━━━━━━━━━━━━━━━━\u001b[0m\u001b[37m\u001b[0m \u001b[1m1s\u001b[0m 23ms/step - loss: 0.0773 - val_loss: 0.0778\n",
            "Epoch 11/50\n",
            "\u001b[1m25/25\u001b[0m \u001b[32m━━━━━━━━━━━━━━━━━━━━\u001b[0m\u001b[37m\u001b[0m \u001b[1m1s\u001b[0m 30ms/step - loss: 0.0766 - val_loss: 0.0770\n",
            "Epoch 12/50\n",
            "\u001b[1m25/25\u001b[0m \u001b[32m━━━━━━━━━━━━━━━━━━━━\u001b[0m\u001b[37m\u001b[0m \u001b[1m1s\u001b[0m 23ms/step - loss: 0.0754 - val_loss: 0.0762\n",
            "Epoch 13/50\n",
            "\u001b[1m25/25\u001b[0m \u001b[32m━━━━━━━━━━━━━━━━━━━━\u001b[0m\u001b[37m\u001b[0m \u001b[1m1s\u001b[0m 26ms/step - loss: 0.0742 - val_loss: 0.0754\n",
            "Epoch 14/50\n",
            "\u001b[1m25/25\u001b[0m \u001b[32m━━━━━━━━━━━━━━━━━━━━\u001b[0m\u001b[37m\u001b[0m \u001b[1m1s\u001b[0m 31ms/step - loss: 0.0732 - val_loss: 0.0747\n",
            "Epoch 15/50\n",
            "\u001b[1m25/25\u001b[0m \u001b[32m━━━━━━━━━━━━━━━━━━━━\u001b[0m\u001b[37m\u001b[0m \u001b[1m1s\u001b[0m 25ms/step - loss: 0.0728 - val_loss: 0.0741\n",
            "Epoch 16/50\n",
            "\u001b[1m25/25\u001b[0m \u001b[32m━━━━━━━━━━━━━━━━━━━━\u001b[0m\u001b[37m\u001b[0m \u001b[1m1s\u001b[0m 32ms/step - loss: 0.0717 - val_loss: 0.0736\n",
            "Epoch 17/50\n",
            "\u001b[1m25/25\u001b[0m \u001b[32m━━━━━━━━━━━━━━━━━━━━\u001b[0m\u001b[37m\u001b[0m \u001b[1m1s\u001b[0m 43ms/step - loss: 0.0708 - val_loss: 0.0732\n",
            "Epoch 18/50\n",
            "\u001b[1m25/25\u001b[0m \u001b[32m━━━━━━━━━━━━━━━━━━━━\u001b[0m\u001b[37m\u001b[0m \u001b[1m1s\u001b[0m 37ms/step - loss: 0.0709 - val_loss: 0.0728\n",
            "Epoch 19/50\n",
            "\u001b[1m25/25\u001b[0m \u001b[32m━━━━━━━━━━━━━━━━━━━━\u001b[0m\u001b[37m\u001b[0m \u001b[1m1s\u001b[0m 23ms/step - loss: 0.0701 - val_loss: 0.0724\n",
            "Epoch 20/50\n",
            "\u001b[1m25/25\u001b[0m \u001b[32m━━━━━━━━━━━━━━━━━━━━\u001b[0m\u001b[37m\u001b[0m \u001b[1m1s\u001b[0m 23ms/step - loss: 0.0698 - val_loss: 0.0719\n",
            "Epoch 21/50\n",
            "\u001b[1m25/25\u001b[0m \u001b[32m━━━━━━━━━━━━━━━━━━━━\u001b[0m\u001b[37m\u001b[0m \u001b[1m1s\u001b[0m 30ms/step - loss: 0.0690 - val_loss: 0.0715\n",
            "Epoch 22/50\n",
            "\u001b[1m25/25\u001b[0m \u001b[32m━━━━━━━━━━━━━━━━━━━━\u001b[0m\u001b[37m\u001b[0m \u001b[1m1s\u001b[0m 31ms/step - loss: 0.0681 - val_loss: 0.0711\n",
            "Epoch 23/50\n",
            "\u001b[1m25/25\u001b[0m \u001b[32m━━━━━━━━━━━━━━━━━━━━\u001b[0m\u001b[37m\u001b[0m \u001b[1m1s\u001b[0m 30ms/step - loss: 0.0675 - val_loss: 0.0708\n",
            "Epoch 24/50\n",
            "\u001b[1m25/25\u001b[0m \u001b[32m━━━━━━━━━━━━━━━━━━━━\u001b[0m\u001b[37m\u001b[0m \u001b[1m1s\u001b[0m 24ms/step - loss: 0.0671 - val_loss: 0.0705\n",
            "Epoch 25/50\n",
            "\u001b[1m25/25\u001b[0m \u001b[32m━━━━━━━━━━━━━━━━━━━━\u001b[0m\u001b[37m\u001b[0m \u001b[1m1s\u001b[0m 31ms/step - loss: 0.0668 - val_loss: 0.0703\n",
            "Epoch 26/50\n",
            "\u001b[1m25/25\u001b[0m \u001b[32m━━━━━━━━━━━━━━━━━━━━\u001b[0m\u001b[37m\u001b[0m \u001b[1m1s\u001b[0m 30ms/step - loss: 0.0666 - val_loss: 0.0701\n",
            "Epoch 27/50\n",
            "\u001b[1m25/25\u001b[0m \u001b[32m━━━━━━━━━━━━━━━━━━━━\u001b[0m\u001b[37m\u001b[0m \u001b[1m1s\u001b[0m 24ms/step - loss: 0.0661 - val_loss: 0.0700\n",
            "Epoch 28/50\n",
            "\u001b[1m25/25\u001b[0m \u001b[32m━━━━━━━━━━━━━━━━━━━━\u001b[0m\u001b[37m\u001b[0m \u001b[1m1s\u001b[0m 30ms/step - loss: 0.0659 - val_loss: 0.0699\n",
            "Epoch 29/50\n",
            "\u001b[1m25/25\u001b[0m \u001b[32m━━━━━━━━━━━━━━━━━━━━\u001b[0m\u001b[37m\u001b[0m \u001b[1m1s\u001b[0m 23ms/step - loss: 0.0656 - val_loss: 0.0697\n",
            "Epoch 30/50\n",
            "\u001b[1m25/25\u001b[0m \u001b[32m━━━━━━━━━━━━━━━━━━━━\u001b[0m\u001b[37m\u001b[0m \u001b[1m1s\u001b[0m 30ms/step - loss: 0.0655 - val_loss: 0.0696\n",
            "Epoch 31/50\n",
            "\u001b[1m25/25\u001b[0m \u001b[32m━━━━━━━━━━━━━━━━━━━━\u001b[0m\u001b[37m\u001b[0m \u001b[1m1s\u001b[0m 61ms/step - loss: 0.0649 - val_loss: 0.0695\n",
            "Epoch 32/50\n",
            "\u001b[1m25/25\u001b[0m \u001b[32m━━━━━━━━━━━━━━━━━━━━\u001b[0m\u001b[37m\u001b[0m \u001b[1m2s\u001b[0m 24ms/step - loss: 0.0652 - val_loss: 0.0695\n",
            "Epoch 33/50\n",
            "\u001b[1m25/25\u001b[0m \u001b[32m━━━━━━━━━━━━━━━━━━━━\u001b[0m\u001b[37m\u001b[0m \u001b[1m1s\u001b[0m 23ms/step - loss: 0.0647 - val_loss: 0.0695\n",
            "Epoch 34/50\n",
            "\u001b[1m25/25\u001b[0m \u001b[32m━━━━━━━━━━━━━━━━━━━━\u001b[0m\u001b[37m\u001b[0m \u001b[1m1s\u001b[0m 30ms/step - loss: 0.0648 - val_loss: 0.0694\n",
            "Epoch 35/50\n",
            "\u001b[1m25/25\u001b[0m \u001b[32m━━━━━━━━━━━━━━━━━━━━\u001b[0m\u001b[37m\u001b[0m \u001b[1m1s\u001b[0m 30ms/step - loss: 0.0644 - val_loss: 0.0694\n",
            "Epoch 36/50\n",
            "\u001b[1m25/25\u001b[0m \u001b[32m━━━━━━━━━━━━━━━━━━━━\u001b[0m\u001b[37m\u001b[0m \u001b[1m1s\u001b[0m 30ms/step - loss: 0.0643 - val_loss: 0.0693\n",
            "Epoch 37/50\n",
            "\u001b[1m25/25\u001b[0m \u001b[32m━━━━━━━━━━━━━━━━━━━━\u001b[0m\u001b[37m\u001b[0m \u001b[1m1s\u001b[0m 30ms/step - loss: 0.0646 - val_loss: 0.0692\n",
            "Epoch 38/50\n",
            "\u001b[1m25/25\u001b[0m \u001b[32m━━━━━━━━━━━━━━━━━━━━\u001b[0m\u001b[37m\u001b[0m \u001b[1m1s\u001b[0m 30ms/step - loss: 0.0640 - val_loss: 0.0691\n",
            "Epoch 39/50\n",
            "\u001b[1m25/25\u001b[0m \u001b[32m━━━━━━━━━━━━━━━━━━━━\u001b[0m\u001b[37m\u001b[0m \u001b[1m1s\u001b[0m 30ms/step - loss: 0.0637 - val_loss: 0.0690\n",
            "Epoch 40/50\n",
            "\u001b[1m25/25\u001b[0m \u001b[32m━━━━━━━━━━━━━━━━━━━━\u001b[0m\u001b[37m\u001b[0m \u001b[1m1s\u001b[0m 30ms/step - loss: 0.0638 - val_loss: 0.0689\n",
            "Epoch 41/50\n",
            "\u001b[1m25/25\u001b[0m \u001b[32m━━━━━━━━━━━━━━━━━━━━\u001b[0m\u001b[37m\u001b[0m \u001b[1m1s\u001b[0m 30ms/step - loss: 0.0634 - val_loss: 0.0688\n",
            "Epoch 42/50\n",
            "\u001b[1m25/25\u001b[0m \u001b[32m━━━━━━━━━━━━━━━━━━━━\u001b[0m\u001b[37m\u001b[0m \u001b[1m1s\u001b[0m 30ms/step - loss: 0.0631 - val_loss: 0.0686\n",
            "Epoch 43/50\n",
            "\u001b[1m25/25\u001b[0m \u001b[32m━━━━━━━━━━━━━━━━━━━━\u001b[0m\u001b[37m\u001b[0m \u001b[1m1s\u001b[0m 40ms/step - loss: 0.0630 - val_loss: 0.0685\n",
            "Epoch 44/50\n",
            "\u001b[1m25/25\u001b[0m \u001b[32m━━━━━━━━━━━━━━━━━━━━\u001b[0m\u001b[37m\u001b[0m \u001b[1m1s\u001b[0m 59ms/step - loss: 0.0626 - val_loss: 0.0683\n",
            "Epoch 45/50\n",
            "\u001b[1m25/25\u001b[0m \u001b[32m━━━━━━━━━━━━━━━━━━━━\u001b[0m\u001b[37m\u001b[0m \u001b[1m2s\u001b[0m 30ms/step - loss: 0.0624 - val_loss: 0.0682\n",
            "Epoch 46/50\n",
            "\u001b[1m25/25\u001b[0m \u001b[32m━━━━━━━━━━━━━━━━━━━━\u001b[0m\u001b[37m\u001b[0m \u001b[1m1s\u001b[0m 30ms/step - loss: 0.0624 - val_loss: 0.0681\n",
            "Epoch 47/50\n",
            "\u001b[1m25/25\u001b[0m \u001b[32m━━━━━━━━━━━━━━━━━━━━\u001b[0m\u001b[37m\u001b[0m \u001b[1m1s\u001b[0m 26ms/step - loss: 0.0623 - val_loss: 0.0681\n",
            "Epoch 48/50\n",
            "\u001b[1m25/25\u001b[0m \u001b[32m━━━━━━━━━━━━━━━━━━━━\u001b[0m\u001b[37m\u001b[0m \u001b[1m1s\u001b[0m 30ms/step - loss: 0.0620 - val_loss: 0.0681\n",
            "Epoch 49/50\n",
            "\u001b[1m25/25\u001b[0m \u001b[32m━━━━━━━━━━━━━━━━━━━━\u001b[0m\u001b[37m\u001b[0m \u001b[1m1s\u001b[0m 31ms/step - loss: 0.0620 - val_loss: 0.0680\n",
            "Epoch 50/50\n",
            "\u001b[1m25/25\u001b[0m \u001b[32m━━━━━━━━━━━━━━━━━━━━\u001b[0m\u001b[37m\u001b[0m \u001b[1m1s\u001b[0m 30ms/step - loss: 0.0622 - val_loss: 0.0680\n"
          ]
        },
        {
          "output_type": "execute_result",
          "data": {
            "text/plain": [
              "<keras.src.callbacks.history.History at 0x7ad133fd5390>"
            ]
          },
          "metadata": {},
          "execution_count": 23
        }
      ]
    },
    {
      "cell_type": "code",
      "source": [
        "# Generate new music samples (compressed representations)\n",
        "encoder = Model(input_layer, encoded)\n",
        "compressed_music = encoder.predict(test_data)\n"
      ],
      "metadata": {
        "colab": {
          "base_uri": "https://localhost:8080/"
        },
        "id": "mxT3l7FsJDZv",
        "outputId": "4b1b5ef3-6908-426c-8056-4b9079217d10"
      },
      "execution_count": null,
      "outputs": [
        {
          "output_type": "stream",
          "name": "stdout",
          "text": [
            "\u001b[1m288/288\u001b[0m \u001b[32m━━━━━━━━━━━━━━━━━━━━\u001b[0m\u001b[37m\u001b[0m \u001b[1m1s\u001b[0m 2ms/step\n"
          ]
        }
      ]
    },
    {
      "cell_type": "code",
      "source": [
        "\n",
        "# Reconstruct the music samples from compressed data\n",
        "decoded_music = autoencoder.predict(test_data)\n",
        "\n",
        "print(\"Original Music Sample:\", test_data[0])\n",
        "print(\"Compressed Representation:\", compressed_music[0])\n",
        "print(\"Reconstructed Music Sample:\", decoded_music[0])\n"
      ],
      "metadata": {
        "colab": {
          "base_uri": "https://localhost:8080/"
        },
        "id": "umo4WG5fJDcj",
        "outputId": "9f5f8d34-c7c9-4371-f049-ceeb9e497726"
      },
      "execution_count": null,
      "outputs": [
        {
          "output_type": "stream",
          "name": "stdout",
          "text": [
            "\u001b[1m288/288\u001b[0m \u001b[32m━━━━━━━━━━━━━━━━━━━━\u001b[0m\u001b[37m\u001b[0m \u001b[1m0s\u001b[0m 1ms/step\n",
            "Original Music Sample: [0.60967345 0.97934431 0.674667   0.77001449 0.47848231 0.83904918\n",
            " 0.91785588 0.3878234  0.15749002 0.09357826 0.8531654  0.37462205\n",
            " 0.0669533  0.06744482 0.75752104 0.17484385 0.71144907 0.34649354\n",
            " 0.08452296 0.70086653 0.13871926 0.01201532 0.37304027 0.80891581\n",
            " 0.12857065 0.45613561 0.40763882 0.50219629 0.39073666 0.16366822\n",
            " 0.04726734 0.52438424 0.07745436 0.89248004 0.77285014 0.77156605\n",
            " 0.83032951 0.99678872 0.37566028 0.08203735 0.01098738 0.09498169\n",
            " 0.83159964 0.9018576  0.7107843  0.80261163 0.48536644 0.7267942\n",
            " 0.69824805 0.92100423 0.44648458 0.93716676 0.74762948 0.0511717\n",
            " 0.18265533 0.02025956 0.37429815 0.21721211 0.45840185 0.37856912\n",
            " 0.33430343 0.5110011  0.58845177 0.26096982 0.79983337 0.94614688\n",
            " 0.44825391 0.48972183 0.85887408 0.20546754 0.67192978 0.62830042\n",
            " 0.21154313 0.00844446 0.33514375 0.44331828 0.33762463 0.38564087\n",
            " 0.37653162 0.64528148 0.96546466 0.44017229 0.96267614 0.99041099\n",
            " 0.41810445 0.84550984 0.71981206 0.77668322 0.59591832 0.91537811\n",
            " 0.77071929 0.83824699 0.41844031 0.2952456  0.72755696 0.94235919\n",
            " 0.31868767 0.04893307 0.74084055 0.13926869 0.41498968 0.38357605\n",
            " 0.69629428 0.01009286 0.88605609 0.95649462 0.96630731 0.37451883\n",
            " 0.51861145 0.6943523  0.54856788 0.53292906 0.94372943 0.5293568\n",
            " 0.55013884 0.34703683 0.28247979 0.59608967 0.7743153  0.87038369\n",
            " 0.98166559 0.23171295 0.0826072  0.62471821 0.13427103 0.01186953\n",
            " 0.28320279 0.40980099]\n",
            "Compressed Representation: [0.91408205 2.0751717  0.06759883 0.         1.2026557  0.53110534\n",
            " 0.02684643 0.         0.         0.         1.7243534  2.7506623\n",
            " 0.         1.3844738  0.         0.9148943  2.2917397  0.\n",
            " 1.6294775  2.2433596  2.4755778  2.0076618  1.9249421  2.6545022\n",
            " 2.393037   1.673502   0.95510894 0.22505969 0.1653901  2.2502387\n",
            " 2.6025329  0.60547674]\n",
            "Reconstructed Music Sample: [0.5178539  0.83082277 0.22394602 0.7318966  0.52303755 0.74073505\n",
            " 0.46782422 0.79806036 0.4361388  0.23058878 0.6005694  0.69588274\n",
            " 0.2685615  0.65036994 0.7647483  0.2942639  0.73415625 0.51461595\n",
            " 0.37369147 0.48782808 0.65271777 0.11571402 0.73452747 0.62789506\n",
            " 0.32880604 0.72976583 0.25831968 0.50979424 0.3480593  0.317084\n",
            " 0.39795154 0.6595981  0.45705053 0.690684   0.44152075 0.6408303\n",
            " 0.53195983 0.71773374 0.41810712 0.27343547 0.39361972 0.64241064\n",
            " 0.4173117  0.54605335 0.41429874 0.47534373 0.54524595 0.54257613\n",
            " 0.7925232  0.76296055 0.668659   0.7189468  0.7106686  0.3997039\n",
            " 0.41521728 0.5286927  0.279717   0.5733373  0.5964126  0.34018892\n",
            " 0.33461475 0.44711256 0.22821935 0.37484118 0.77088165 0.7665016\n",
            " 0.54777443 0.3221138  0.51900584 0.26968005 0.62582827 0.48502612\n",
            " 0.29587302 0.24357985 0.22598033 0.4828539  0.3560891  0.34614697\n",
            " 0.41002494 0.380888   0.5486869  0.46406695 0.5041622  0.48291835\n",
            " 0.2820359  0.47495598 0.304062   0.57593375 0.3390453  0.74281484\n",
            " 0.58466786 0.6324719  0.37684745 0.44451076 0.57387567 0.63260055\n",
            " 0.5907108  0.42194194 0.8090093  0.6917155  0.43866798 0.5242082\n",
            " 0.5460468  0.3033858  0.72756153 0.62323505 0.5584227  0.45449415\n",
            " 0.6707426  0.5891002  0.29504654 0.7357766  0.6013879  0.4837788\n",
            " 0.76768196 0.5868698  0.48707384 0.47667018 0.60883325 0.5605931\n",
            " 0.7280118  0.35610574 0.4263349  0.5637258  0.24247581 0.35213053\n",
            " 0.43885326 0.47142124]\n"
          ]
        }
      ]
    },
    {
      "cell_type": "code",
      "source": [
        "pip install midiutil\n"
      ],
      "metadata": {
        "colab": {
          "base_uri": "https://localhost:8080/"
        },
        "id": "GgM9fI3XJhrw",
        "outputId": "d18cf9a1-5d69-4d16-ac8f-e72594486a0b"
      },
      "execution_count": null,
      "outputs": [
        {
          "output_type": "stream",
          "name": "stdout",
          "text": [
            "Requirement already satisfied: midiutil in /usr/local/lib/python3.11/dist-packages (1.2.1)\n"
          ]
        }
      ]
    },
    {
      "cell_type": "code",
      "source": [
        "from midiutil import MIDIFile\n",
        "\n",
        "# Function to save numerical data as MIDI\n",
        "def save_as_midi(data, filename):\n",
        "    midi = MIDIFile(1)  # Create a single track MIDI file\n",
        "    track = 0\n",
        "    time = 0  # Start time in beats\n",
        "    channel = 0\n",
        "    volume = 100  # Volume level\n",
        "\n",
        "    midi.addTrackName(track, time, \"Generated Music\")\n",
        "    midi.addTempo(track, time, 120)  # Set tempo (120 BPM)\n",
        "\n",
        "    for i, pitch in enumerate(data):\n",
        "        # Convert the values into MIDI pitch (e.g., 0-127)\n",
        "        midi_pitch = int(pitch * 127)  # Scale the values\n",
        "        if 0 <= midi_pitch <= 127:  # Ensure it's within valid range\n",
        "            midi.addNote(track, channel, midi_pitch, time + i, 1, volume)\n",
        "\n",
        "    # Write MIDI data to file\n",
        "    with open(filename, \"wb\") as midi_file:\n",
        "        midi.writeFile(midi_file)\n",
        "\n",
        "# Example: Save one of the reconstructed music samples as MIDI\n",
        "sample_music = decoded_music[0]  # Reconstructed music sample\n",
        "save_as_midi(sample_music, \"generated_music.mid\")\n",
        "\n",
        "print(\"Music saved as 'generated_music.mid'\")\n"
      ],
      "metadata": {
        "colab": {
          "base_uri": "https://localhost:8080/"
        },
        "id": "fBoZoCOnJhuz",
        "outputId": "5a2ad005-4bbb-41aa-bd20-9b3a8f5dc7d3"
      },
      "execution_count": null,
      "outputs": [
        {
          "output_type": "stream",
          "name": "stdout",
          "text": [
            "Music saved as 'generated_music.mid'\n"
          ]
        }
      ]
    },
    {
      "cell_type": "code",
      "source": [],
      "metadata": {
        "id": "TzQFIRvTJhxZ"
      },
      "execution_count": null,
      "outputs": []
    }
  ]
}